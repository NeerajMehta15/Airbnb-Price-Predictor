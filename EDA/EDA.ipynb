{
 "cells": [
  {
   "cell_type": "code",
   "execution_count": 2,
   "metadata": {},
   "outputs": [],
   "source": [
    "# Importing necessary libraries\n",
    "import pandas as pd\n",
    "import numpy as np\n",
    "\n",
    "# Visualization libraries\n",
    "import matplotlib.pyplot as plt\n",
    "import seaborn as sns\n",
    "\n",
    "# Machine Learning models from sklearn\n",
    "from sklearn.linear_model import LinearRegression, Ridge, Lasso, ElasticNet\n",
    "from sklearn.svm import SVR\n",
    "from sklearn.tree import DecisionTreeRegressor\n",
    "from sklearn.ensemble import RandomForestRegressor, GradientBoostingRegressor, AdaBoostRegressor\n",
    "import xgboost as xgb\n",
    "\n",
    "# Model selection and evaluation metrics\n",
    "from sklearn.model_selection import train_test_split\n",
    "from sklearn.metrics import mean_squared_error, mean_absolute_error, r2_score"
   ]
  },
  {
   "cell_type": "code",
   "execution_count": 3,
   "metadata": {},
   "outputs": [],
   "source": [
    "#Importing dataset \n",
    "df = pd.read_csv(\"/Users/neeraj/Documents/Portfolio_project/Airbnb-Price-Predictor/data/processed/1.Listing_details_1.csv\")\n",
    "df = df[df['price'].notna()]"
   ]
  },
  {
   "cell_type": "code",
   "execution_count": 4,
   "metadata": {},
   "outputs": [
    {
     "name": "stdout",
     "output_type": "stream",
     "text": [
      "<class 'pandas.core.frame.DataFrame'>\n",
      "Index: 3329 entries, 0 to 3456\n",
      "Data columns (total 75 columns):\n",
      " #   Column                                        Non-Null Count  Dtype  \n",
      "---  ------                                        --------------  -----  \n",
      " 0   id                                            3329 non-null   float64\n",
      " 1   listing_url                                   3329 non-null   object \n",
      " 2   scrape_id                                     3329 non-null   int64  \n",
      " 3   last_scraped                                  3329 non-null   object \n",
      " 4   source                                        3329 non-null   object \n",
      " 5   name                                          3329 non-null   object \n",
      " 6   description                                   0 non-null      float64\n",
      " 7   neighborhood_overview                         2164 non-null   object \n",
      " 8   picture_url                                   3329 non-null   object \n",
      " 9   host_id                                       3329 non-null   int64  \n",
      " 10  host_url                                      3329 non-null   object \n",
      " 11  host_name                                     3329 non-null   object \n",
      " 12  host_since                                    3329 non-null   object \n",
      " 13  host_location                                 2051 non-null   object \n",
      " 14  host_about                                    2177 non-null   object \n",
      " 15  host_response_time                            2560 non-null   object \n",
      " 16  host_response_rate                            2560 non-null   object \n",
      " 17  host_acceptance_rate                          2450 non-null   object \n",
      " 18  host_is_superhost                             3326 non-null   object \n",
      " 19  host_thumbnail_url                            3329 non-null   object \n",
      " 20  host_picture_url                              3329 non-null   object \n",
      " 21  host_neighbourhood                            3123 non-null   object \n",
      " 22  host_listings_count                           3329 non-null   int64  \n",
      " 23  host_total_listings_count                     3329 non-null   int64  \n",
      " 24  host_verifications                            3329 non-null   object \n",
      " 25  host_has_profile_pic                          3329 non-null   object \n",
      " 26  host_identity_verified                        3329 non-null   object \n",
      " 27  neighbourhood                                 2164 non-null   object \n",
      " 28  neighbourhood_cleansed                        3329 non-null   object \n",
      " 29  neighbourhood_group_cleansed                  3329 non-null   object \n",
      " 30  latitude                                      3329 non-null   float64\n",
      " 31  longitude                                     3329 non-null   float64\n",
      " 32  property_type                                 3329 non-null   object \n",
      " 33  room_type                                     3329 non-null   object \n",
      " 34  accommodates                                  3329 non-null   int64  \n",
      " 35  bathrooms                                     0 non-null      float64\n",
      " 36  bathrooms_text                                3310 non-null   object \n",
      " 37  bedrooms                                      0 non-null      float64\n",
      " 38  beds                                          3255 non-null   float64\n",
      " 39  amenities                                     3329 non-null   object \n",
      " 40  price                                         3329 non-null   object \n",
      " 41  minimum_nights                                3329 non-null   int64  \n",
      " 42  maximum_nights                                3329 non-null   int64  \n",
      " 43  minimum_minimum_nights                        3329 non-null   int64  \n",
      " 44  maximum_minimum_nights                        3329 non-null   int64  \n",
      " 45  minimum_maximum_nights                        3329 non-null   int64  \n",
      " 46  maximum_maximum_nights                        3329 non-null   int64  \n",
      " 47  minimum_nights_avg_ntm                        3329 non-null   float64\n",
      " 48  maximum_nights_avg_ntm                        3329 non-null   float64\n",
      " 49  calendar_updated                              0 non-null      float64\n",
      " 50  has_availability                              3329 non-null   object \n",
      " 51  availability_30                               3329 non-null   int64  \n",
      " 52  availability_60                               3329 non-null   int64  \n",
      " 53  availability_90                               3329 non-null   int64  \n",
      " 54  availability_365                              3329 non-null   int64  \n",
      " 55  calendar_last_scraped                         3329 non-null   object \n",
      " 56  number_of_reviews                             3329 non-null   int64  \n",
      " 57  number_of_reviews_ltm                         3329 non-null   int64  \n",
      " 58  number_of_reviews_l30d                        3329 non-null   int64  \n",
      " 59  first_review                                  1781 non-null   object \n",
      " 60  last_review                                   1781 non-null   object \n",
      " 61  review_scores_rating                          1781 non-null   float64\n",
      " 62  review_scores_accuracy                        1779 non-null   float64\n",
      " 63  review_scores_cleanliness                     1779 non-null   float64\n",
      " 64  review_scores_checkin                         1779 non-null   float64\n",
      " 65  review_scores_communication                   1780 non-null   float64\n",
      " 66  review_scores_location                        1779 non-null   float64\n",
      " 67  review_scores_value                           1779 non-null   float64\n",
      " 68  license                                       1362 non-null   object \n",
      " 69  instant_bookable                              3329 non-null   object \n",
      " 70  calculated_host_listings_count                3329 non-null   int64  \n",
      " 71  calculated_host_listings_count_entire_homes   3329 non-null   int64  \n",
      " 72  calculated_host_listings_count_private_rooms  3329 non-null   int64  \n",
      " 73  calculated_host_listings_count_shared_rooms   3329 non-null   int64  \n",
      " 74  reviews_per_month                             1781 non-null   float64\n",
      "dtypes: float64(18), int64(22), object(35)\n",
      "memory usage: 1.9+ MB\n"
     ]
    }
   ],
   "source": [
    "df.info()"
   ]
  },
  {
   "cell_type": "markdown",
   "metadata": {},
   "source": [
    "Remove the irrelevant columns used for scraping and retain only the relevant ones in the dataset. This will help avoid unnecessary processing."
   ]
  },
  {
   "cell_type": "code",
   "execution_count": 5,
   "metadata": {},
   "outputs": [],
   "source": [
    "\n",
    "bnb_listing = df.drop([\"listing_url\",\"scrape_id\",\"last_scraped\",\"last_scraped\",\"source\",\"description\",\"picture_url\",\"host_url\",\"host_thumbnail_url\",\"host_picture_url\",\"longitude\",\"latitude\",\"amenities\",\"calendar_last_scraped\",\"bathrooms\",\"bedrooms\",\"calendar_updated\",'license','host_about'], axis=1)"
   ]
  },
  {
   "cell_type": "markdown",
   "metadata": {},
   "source": [
    "Grouping columns into relevant groups to make it easier to process the data."
   ]
  },
  {
   "cell_type": "code",
   "execution_count": 6,
   "metadata": {},
   "outputs": [],
   "source": [
    "property_unique = ['id','name','neighbourhood_overview']\n",
    "neighbourhood = ['neighbourhood','neighbourhood_cleansed','neighbourhood_group_cleansed']\n",
    "host = [\"host_id\",\"host_name\",\"host_since\",\"host_location\",\"host_about\",\"host_response_time\",\"host_response_rate\",\"host_acceptance_rate\",\"host_is_superhost\",\"host_neighbourhood\",\"host_listings_count\",\"host_total_listings_count\",\"host_verifications\",\"host_has_profile_pic\",\"host_identity_verified\"]\n",
    "property_details = [\"property_type\",\"room_type\",\"accommodates\",\"bathrooms_text\",\"beds\"]\n",
    "price = [\"price\"]\n",
    "future_bookings = ['minimum_nights','maximum_nights','minimum_minimum_nights','maximum_minimum_nights','minimum_maximum_nights','maximum_maximum_nights','minimum_nights_avg_ntm','maximum_nights_avg_ntm','has_availability','availability_30','availability_60','availability_90','availability_365']\n",
    "reviews = [\"number_of_reviews\",\"number_of_reviews_ltm\",\"number_of_reviews_l30d\",\"first_review\",\"last_review\",\"review_scores_rating\",\"review_scores_accuracy\",\"review_scores_cleanliness\",\"review_scores_checkin\",\"review_scores_communication\",\"review_scores_location\",\"review_scores_value\",\"reviews_per_month\"]\n",
    "others = [\"instant_bookable\",\"calculated_host_listings_count\",\"calculated_host_listings_count_entire_homes\",\"calculated_host_listings_count_private_rooms\",\"calculated_host_listings_count_shared_rooms\"]"
   ]
  },
  {
   "cell_type": "markdown",
   "metadata": {},
   "source": [
    "Trying to understand the importance of each variable, including unique and null values, as well as their relationships with other important variables"
   ]
  },
  {
   "cell_type": "code",
   "execution_count": 7,
   "metadata": {},
   "outputs": [
    {
     "name": "stdout",
     "output_type": "stream",
     "text": [
      "Number of unique listings based on the 'id' column: 3329\n"
     ]
    }
   ],
   "source": [
    "#Checking if all the listings are unique or not\n",
    "unique_property_count = bnb_listing['id'].nunique()\n",
    "print(\"Number of unique listings based on the 'id' column:\", unique_property_count)"
   ]
  },
  {
   "cell_type": "code",
   "execution_count": null,
   "metadata": {},
   "outputs": [],
   "source": [
    "unique_host_count = bnb_listing['host_id'].nunique()\n",
    "print(\"Number of unique host based on the 'host_id' column:\", unique_host_count)"
   ]
  },
  {
   "cell_type": "code",
   "execution_count": null,
   "metadata": {},
   "outputs": [],
   "source": [
    "# Assuming total_listing is a Series with host_id as index and count as values\n",
    "total_listing = bnb_listing.groupby('host_id')['id'].count()\n",
    "\n",
    "sns.relplot(x=total_listing.index, y=total_listing.values, kind = 'scatter')\n",
    "plt.xlabel('Host ID')\n",
    "plt.ylabel('Count of Listings')\n",
    "plt.title('Number of Listings per Host')\n",
    "plt.xticks(rotation=90)  # Rotate x-axis labels for better visibility\n",
    "plt.show()\n"
   ]
  },
  {
   "cell_type": "markdown",
   "metadata": {},
   "source": [
    "So all listings are unqiue"
   ]
  },
  {
   "cell_type": "code",
   "execution_count": null,
   "metadata": {},
   "outputs": [],
   "source": [
    "sns.relplot( \n",
    "         x = bnb_listing[bnb_listing[\"number_of_reviews\"] > 0]['price'],\n",
    "         y= bnb_listing[bnb_listing[\"number_of_reviews\"] > 0]['review_scores_rating'], \n",
    "         kind = 'scatter'\n",
    ")\n",
    "plt.xticks(rotation = 90)\n",
    "plt.show()\n"
   ]
  },
  {
   "cell_type": "markdown",
   "metadata": {},
   "source": [
    "Need to bucketize price to get better clarity, also rating will not be directly related with the price as can be seen from the above data points."
   ]
  },
  {
   "cell_type": "code",
   "execution_count": null,
   "metadata": {},
   "outputs": [],
   "source": [
    "print(bnb_listing['host_location'].unique())\n",
    "by_country = bnb_listing.groupby('host_location')['id'].count()\n",
    "print(by_country.sort_values(ascending=False))"
   ]
  },
  {
   "cell_type": "markdown",
   "metadata": {},
   "source": [
    "People from outside Signapore are also running Airbnb in Singapore. Top of the list are people from India, Indorenesia and France."
   ]
  },
  {
   "cell_type": "markdown",
   "metadata": {},
   "source": [
    "Ignoring host_about for now, we can run NLP to understand if there are anything specific that can help in the correlation between price and what is mentioned"
   ]
  },
  {
   "cell_type": "code",
   "execution_count": null,
   "metadata": {},
   "outputs": [],
   "source": [
    "print(bnb_listing['host_response_time'].unique()) #Need to do hot encoding. This can impact rating, let's try to see correlation between rating and reponse time\n",
    "Category_order = [ 'within an hour','within a few hours','within a day','a few days or more']\n",
    "sns.catplot(x='host_response_time',y= 'review_scores_rating',data = bnb_listing,hue = 'host_response_time',order = Category_order)\n",
    "plt.xticks(rotation = 45)\n",
    "plt.show()"
   ]
  },
  {
   "cell_type": "markdown",
   "metadata": {},
   "source": [
    "Response time do make a impact on the overall rating and which might influence the future bookings. Will explore this data set futher"
   ]
  },
  {
   "cell_type": "code",
   "execution_count": null,
   "metadata": {},
   "outputs": [],
   "source": [
    "print(bnb_listing['host_response_rate'].unique()) \n",
    "avg_reponse_rating = bnb_listing.groupby('host_response_rate')['review_scores_rating'].mean()\n",
    "print(avg_reponse_rating)\n",
    "\n",
    "sns.relplot(x=avg_reponse_rating.index,y=avg_reponse_rating[1],kind='line')\n",
    "\n",
    "#Need to do hot encoding. This can impact rating, let's try to see correlation between rating and reponse time\n",
    "# Category_order = [ 'within an hour','within a few hours','within a day','a few days or more']\n",
    "# sns.catplot(y ='host_response_rate',x = 'review_scores_rating',data = bnb_listing,hue = 'host_response_time',order = Category_order)\n",
    "# plt.xticks(rotation = 45)\n",
    "# plt.show()\n",
    "\n",
    "ax = plt.gca()  \n",
    "ax.set_ylim(4.5, None) "
   ]
  },
  {
   "cell_type": "code",
   "execution_count": null,
   "metadata": {},
   "outputs": [],
   "source": [
    "bnb_listing['host_acceptance_rate'].head()"
   ]
  },
  {
   "cell_type": "code",
   "execution_count": null,
   "metadata": {},
   "outputs": [],
   "source": [
    "bnb_listing.groupby('host_is_superhost')['id'].count()"
   ]
  },
  {
   "cell_type": "markdown",
   "metadata": {},
   "source": [
    "Let's try to understand the correlation between price and property features, we have these as property features -  \n",
    " 21  property_type   22  room_type  23  accommodates   25  bathrooms_text 27  beds 28  price"
   ]
  },
  {
   "cell_type": "code",
   "execution_count": 18,
   "metadata": {},
   "outputs": [],
   "source": [
    "# Convert 'price' column to numeric after removing non-numeric characters\n",
    "bnb_listing['price'] = pd.to_numeric(bnb_listing['price'].str.replace('[^0-9.]', '', regex=True))"
   ]
  },
  {
   "cell_type": "code",
   "execution_count": 19,
   "metadata": {},
   "outputs": [],
   "source": [
    "# Converting price column to float\n",
    "for lab, row in bnb_listing.iterrows():\n",
    "    bnb_listing.at[lab, 'price'] = float(row['price'])\n"
   ]
  },
  {
   "cell_type": "code",
   "execution_count": null,
   "metadata": {},
   "outputs": [],
   "source": [
    "bnb_listing['property_type'].unique()\n",
    "\n",
    "total_property = bnb_listing.groupby('property_type')['property_type'].count()\n",
    "print(total_property.sort_values(ascending=False))\n"
   ]
  },
  {
   "cell_type": "code",
   "execution_count": null,
   "metadata": {},
   "outputs": [],
   "source": [
    "# Now calculate the mean\n",
    "total_property_price = bnb_listing.groupby('property_type')[['price', 'review_scores_rating']].mean()\n",
    "\n",
    "print(total_property_price.sort_values(by='price', ascending=False))\n",
    "\n",
    "sns.relplot(x='price',y='review_scores_rating',data=total_property_price)"
   ]
  },
  {
   "cell_type": "markdown",
   "metadata": {},
   "source": [
    "There is no clear correlation between price and rating, higher price doesn't mean higher rating . "
   ]
  },
  {
   "cell_type": "code",
   "execution_count": null,
   "metadata": {},
   "outputs": [],
   "source": [
    "bnb_listing['room_type'].unique()\n",
    "room_type_summary = bnb_listing.groupby('room_type').agg(room_count=('room_type', 'count'))\n",
    "print(room_type_summary)"
   ]
  },
  {
   "cell_type": "code",
   "execution_count": null,
   "metadata": {},
   "outputs": [],
   "source": [
    "#'''Getting error needs to be checked'''\n",
    "bnb_listing.pivot_table(values='property_type', index='property_type', columns='room_type', aggfunc='count')"
   ]
  },
  {
   "cell_type": "code",
   "execution_count": null,
   "metadata": {},
   "outputs": [],
   "source": [
    "sns.set_style('darkgrid')\n",
    "# sns.set_palette()\n",
    "# sns.set_context('Paper')\n",
    "\n",
    "\n",
    "bnb_listing['accommodates'].unique()\n",
    "accomodates_count = bnb_listing.groupby('accommodates')['price'].agg(['count', 'mean'])\n",
    "accomodates_count = accomodates_count.rename(columns={'count': 'number_of_property', 'mean': 'avg_price'})\n",
    "accomodates_count = accomodates_count.sort_values('avg_price', ascending=False)\n",
    "\n",
    "#Filtering out property with where number of count is greater  than 20 to understand price trend better:\n",
    "\n",
    "accomodates_count_30 = accomodates_count[accomodates_count['number_of_property'] > 30 ]\n",
    "sns.relplot(x = accomodates_count.index, y = 'avg_price', data = accomodates_count, kind = 'line', palette='Green', markers= True)\n",
    "sns.relplot(x = accomodates_count_30.index, y = 'avg_price', data = accomodates_count_30, kind = 'line',markers= True)"
   ]
  },
  {
   "cell_type": "markdown",
   "metadata": {},
   "source": [
    "Average price increase after as number of people that can be accomdate in a property increase, it peaks at 7 after which it decrease might be attributed that after 8 we have shared room more like dorms"
   ]
  },
  {
   "cell_type": "code",
   "execution_count": null,
   "metadata": {},
   "outputs": [],
   "source": [
    "bnb_listing['bathrooms_text'].unique()"
   ]
  },
  {
   "cell_type": "code",
   "execution_count": null,
   "metadata": {},
   "outputs": [],
   "source": [
    "bnb_listing['beds'].unique()\n",
    "bed_groups = bnb_listing.groupby('beds')['beds'].agg('count')\n",
    "print(bed_groups)"
   ]
  },
  {
   "cell_type": "code",
   "execution_count": null,
   "metadata": {},
   "outputs": [],
   "source": [
    "bnb_listing['host_about'].head()"
   ]
  },
  {
   "cell_type": "code",
   "execution_count": null,
   "metadata": {},
   "outputs": [],
   "source": [
    "bnb = bnb_listing[['property_type', 'room_type', 'accommodates', 'bathrooms_text', 'beds','price']]\n",
    "\n",
    "# Calculate the correlation matrix\n",
    "correlation_matrix = df.corr()\n",
    "\n",
    "# Create the heatmap\n",
    "plt.figure(figsize=(10, 8))\n",
    "sns.heatmap(correlation_matrix, annot=True, cmap='coolwarm', fmt=\".2f\")\n",
    "plt.title('Correlation Heatmap')\n",
    "plt.show()\n"
   ]
  },
  {
   "cell_type": "markdown",
   "metadata": {},
   "source": [
    "Let's try to understand negihborhood impact on the price of the rooms"
   ]
  },
  {
   "cell_type": "markdown",
   "metadata": {},
   "source": [
    " 17  neighbourhood                                 \n",
    " 18  neighbourhood_cleansed                        \n",
    " 19  neighbourhood_group_cleansed                "
   ]
  },
  {
   "cell_type": "code",
   "execution_count": null,
   "metadata": {},
   "outputs": [],
   "source": [
    "bnb_listing['neighbourhood'].isna().sum()"
   ]
  },
  {
   "cell_type": "markdown",
   "metadata": {},
   "source": [
    "As most high % of this column values are not present we will drop this column for model development "
   ]
  },
  {
   "cell_type": "code",
   "execution_count": null,
   "metadata": {},
   "outputs": [],
   "source": [
    "# Define the bin edges for the price categories\n",
    "bin_edges = [0, 50, 100, 150, 200, 500, 1000, float('inf')]  # Define the edges of the price categories\n",
    "\n",
    "# Define the labels for the price categories\n",
    "bin_labels = ['0-50', '51-100', '101-150', '151-200', '201-500','501-1000','1000+']  # Define the labels for the price categories\n",
    "\n",
    "# Create the 'price_category' column using pd.cut()\n",
    "bnb_listing['price_category'] = pd.cut(bnb_listing['price'], bins=bin_edges, labels=bin_labels, right=False)\n",
    "\n",
    "bnb_listing['price_category'].unique()"
   ]
  },
  {
   "cell_type": "code",
   "execution_count": null,
   "metadata": {},
   "outputs": [],
   "source": [
    "bnb_listing['neighbourhood_cleansed']\n",
    "bnb_listing.groupby('neighbourhood_cleansed')['neighbourhood_cleansed'].count()\n",
    "bnb_listing.pivot_table(values='price', \n",
    "                        index='neighbourhood_cleansed',\n",
    "                        columns='accommodates', \n",
    "                        aggfunc=lambda x: np.round(np.mean(x)),\n",
    "                        fill_value=0)"
   ]
  },
  {
   "cell_type": "code",
   "execution_count": null,
   "metadata": {},
   "outputs": [],
   "source": [
    "# Plot the heatmap\n",
    "plt.figure(figsize=(10, 8))\n",
    "sns.heatmap(pivot_table_rounded, cmap='coolwarm', annot=True, fmt='d', linewidths=0.5)\n",
    "plt.title('Average Price by Neighbourhood and # of Accomodates')\n",
    "plt.xlabel('Accomdates')\n",
    "plt.ylabel('Neighbourhood')\n",
    "plt.xticks(rotation=45)\n",
    "plt.yticks(rotation=0)\n",
    "plt.tight_layout()\n",
    "plt.show()"
   ]
  },
  {
   "cell_type": "code",
   "execution_count": null,
   "metadata": {},
   "outputs": [],
   "source": [
    "bnb_listing['neighbourhood_group_cleansed'].unique()"
   ]
  },
  {
   "cell_type": "markdown",
   "metadata": {},
   "source": [
    "We will develop three model, first is modeling price based on the property features and reviews\n",
    "\n",
    "\n",
    "1. Model price based on the property features first and also the reviews provided\n",
    "DATA CLEANING"
   ]
  },
  {
   "cell_type": "code",
   "execution_count": 33,
   "metadata": {},
   "outputs": [],
   "source": [
    "x1_model = bnb_listing[['neighbourhood_cleansed','neighbourhood_group_cleansed','property_type',\n",
    "                       'room_type','accommodates','bathrooms_text','beds','number_of_reviews','number_of_reviews_ltm',\n",
    "                       'number_of_reviews_l30d','review_scores_rating','review_scores_accuracy',\n",
    "                       'review_scores_cleanliness','review_scores_checkin','review_scores_communication','review_scores_location',\n",
    "                       'review_scores_value','reviews_per_month']]\n",
    "y = bnb_listing['price']"
   ]
  },
  {
   "cell_type": "code",
   "execution_count": null,
   "metadata": {},
   "outputs": [],
   "source": [
    "print(type(x1_model))"
   ]
  },
  {
   "cell_type": "code",
   "execution_count": null,
   "metadata": {},
   "outputs": [],
   "source": [
    "x1_model['bathrooms_text'].unique()\n",
    "\n",
    "baths = x1_model.groupby('bathrooms_text')['bathrooms_text'].agg('count')\n",
    "print(baths)"
   ]
  },
  {
   "cell_type": "markdown",
   "metadata": {},
   "source": [
    "From this we can do feature engineering, and identify the shared bath and number of bath, that we can impute the missing value or nan values.\n",
    "- Half bath or full bath can be one columns\n",
    "- Number of baths can  be another\n",
    "- Private or shared can be another\n",
    "\n",
    "Our assumbtion is where only bath is written , those are private full baths."
   ]
  },
  {
   "cell_type": "code",
   "execution_count": null,
   "metadata": {},
   "outputs": [],
   "source": [
    "import re\n",
    "\n",
    "# Convert column to string type\n",
    "x1_model['bathrooms_text'] = x1_model['bathrooms_text'].astype(str)\n",
    "\n",
    "# Iterate over the Series\n",
    "for lab, row in x1_model['bathrooms_text'].items():\n",
    "    # Use regular expression to extract number of bathrooms from string\n",
    "    match = re.search(r'(\\d+(\\.\\d+)?)', row)\n",
    "    if match:\n",
    "        # Assign the extracted number of bathrooms to a new column\n",
    "        x1_model.loc[lab, 'num_bathrooms'] = float(match.group(1))\n",
    "    else:\n",
    "        x1_model.loc[lab, 'num_bathrooms'] = 1\n",
    "\n",
    "    if 'shared' in row:\n",
    "        x1_model.loc[lab, 'Shared_bath'] = 0\n",
    "    else:\n",
    "        x1_model.loc[lab, 'Shared_bath'] = 1\n",
    "\n",
    "    if 'half' in row.lower():\n",
    "        x1_model.loc[lab, 'Half_bath'] = 0\n",
    "    elif 'Half' in row.lower():\n",
    "        x1_model.loc[lab, 'Half_bath'] = 0\n",
    "    else:\n",
    "        x1_model.loc[lab, 'Half_bath'] = 1\n",
    "\n"
   ]
  },
  {
   "cell_type": "code",
   "execution_count": null,
   "metadata": {},
   "outputs": [],
   "source": [
    "bath_details = x1_model.groupby('num_bathrooms')['num_bathrooms'].agg(numbers_bath='count').reset_index()\n",
    "\n",
    "sns.barplot(x='num_bathrooms', y='numbers_bath', data=bath_details)\n",
    "plt.xlabel('Number of Bathrooms')\n",
    "plt.ylabel('Count')\n",
    "plt.title('Distribution of Properties by Number of Bathrooms')\n",
    "plt.show()\n"
   ]
  },
  {
   "cell_type": "markdown",
   "metadata": {},
   "source": [
    "In most of the properties only one bathroom is there"
   ]
  },
  {
   "cell_type": "code",
   "execution_count": null,
   "metadata": {},
   "outputs": [],
   "source": [
    "plt.figure(figsize=(10, 6))\n",
    "plt.scatter(x1_model['beds'], x1_model['num_bathrooms'], alpha=0.5)\n",
    "plt.xlabel('Number of Beds')\n",
    "plt.ylabel('Number of Bathrooms')\n",
    "plt.title('Relationship between Beds and Bathrooms')\n",
    "plt.show()\n"
   ]
  },
  {
   "cell_type": "code",
   "execution_count": null,
   "metadata": {},
   "outputs": [],
   "source": [
    "plt.figure(figsize=(8, 6))\n",
    "sns.heatmap(x1_model[['beds', 'num_bathrooms']].corr(), annot=True, cmap='coolwarm', fmt=\".2f\")\n",
    "plt.title('Correlation Heatmap between Beds and Bathrooms')\n",
    "plt.show()\n"
   ]
  },
  {
   "cell_type": "code",
   "execution_count": 42,
   "metadata": {},
   "outputs": [],
   "source": [
    "# Replacing null beds with median values\n",
    "for lab, row in x1_model.iterrows():\n",
    "    if pd.isnull(row['beds']):\n",
    "        x1_model.at[lab, 'beds'] = x1_model['beds'].mode()[0]\n"
   ]
  },
  {
   "cell_type": "code",
   "execution_count": null,
   "metadata": {},
   "outputs": [],
   "source": [
    "# Assuming that average rating start with 3 and based on user experience it goes up and down. So we will update properties rating where no rating is given with 3\n",
    "# Replacing null beds with median values\n",
    "columns_to_fill = ['review_scores_rating', 'review_scores_accuracy', 'review_scores_cleanliness',\n",
    "                   'review_scores_checkin', 'review_scores_communication', 'review_scores_location',\n",
    "                   'review_scores_value', 'reviews_per_month']\n",
    "\n",
    "# Fill missing values with 3 for specified columns\n",
    "x1_model[columns_to_fill] = x1_model[columns_to_fill].fillna(3)\n"
   ]
  },
  {
   "cell_type": "code",
   "execution_count": 44,
   "metadata": {},
   "outputs": [],
   "source": [
    "x1_model_1500 = x1_model[x1_model['number_of_reviews'] != 0]"
   ]
  },
  {
   "cell_type": "code",
   "execution_count": null,
   "metadata": {},
   "outputs": [],
   "source": [
    "x1_model_1500.isna().sum()"
   ]
  },
  {
   "cell_type": "code",
   "execution_count": null,
   "metadata": {},
   "outputs": [],
   "source": [
    "x1_model_1500['property_type'].unique()"
   ]
  },
  {
   "cell_type": "code",
   "execution_count": null,
   "metadata": {},
   "outputs": [],
   "source": [
    "x1_model['room_type'].unique()"
   ]
  },
  {
   "cell_type": "code",
   "execution_count": null,
   "metadata": {},
   "outputs": [],
   "source": [
    "room_new_type = x1_model.groupby(['property_type', 'room_type'])['room_type'].agg(count='count')\n",
    "print(room_new_type.sort_values(by='count', ascending=False))\n"
   ]
  },
  {
   "cell_type": "code",
   "execution_count": 56,
   "metadata": {},
   "outputs": [],
   "source": [
    "# List of property types to check for\n",
    "property_types = ['rental unit', 'serviced apartment', 'condo', 'hotel', 'home', 'boutique hotel',\n",
    "                  'townhouse', 'aparthotel', 'hostel', 'bungalow', 'bed and breakfast', 'guesthouse', 'villa']\n",
    "\n",
    "# Iterate over the rows in the 'property_type' column\n",
    "for lab, row in x1_model_1500['property_type'].items():\n",
    "    # Check if the property type exists in the row\n",
    "    for prop_type in property_types:\n",
    "        if prop_type.lower() in row.lower():\n",
    "            x1_model_1500.loc[lab, prop_type] = 1\n",
    "        else:\n",
    "            x1_model_1500.loc[lab,prop_type] = 0\n",
    "    # If property type not found, mark \"other\" column as 1\n",
    "\n"
   ]
  },
  {
   "cell_type": "code",
   "execution_count": null,
   "metadata": {},
   "outputs": [],
   "source": [
    "sum_of_columns = x1_model_1500[property_types].sum(axis=1)\n",
    "x1_model['other'] = 1 - sum_of_columns\n",
    "x1_model_1500.loc[sum_of_columns == 1, 'other'] = 0"
   ]
  },
  {
   "cell_type": "code",
   "execution_count": null,
   "metadata": {},
   "outputs": [],
   "source": [
    "x1_model_1500[['property_type','rental unit', 'serviced apartment', 'condo', 'hotel', 'home', 'boutique hotel',\n",
    "                  'townhouse', 'aparthotel', 'hostel', 'bungalow', 'bed and breakfast', 'guesthouse', 'villa','other']].head()"
   ]
  },
  {
   "cell_type": "markdown",
   "metadata": {},
   "source": [
    "Doing hot encodoing"
   ]
  },
  {
   "cell_type": "code",
   "execution_count": null,
   "metadata": {},
   "outputs": [],
   "source": [
    "x1_model_1500['neighbourhood_cleansed'].unique()"
   ]
  },
  {
   "cell_type": "code",
   "execution_count": 53,
   "metadata": {},
   "outputs": [],
   "source": [
    "x1_model_1500_dummy = pd.get_dummies(x1_model_1500[['neighbourhood_cleansed','neighbourhood_group_cleansed','room_type']]).astype(int)"
   ]
  },
  {
   "cell_type": "code",
   "execution_count": null,
   "metadata": {},
   "outputs": [],
   "source": [
    "# Define the columns for x1_model and x1_dummy\n",
    "x1_col1 = ['accommodates', 'beds', 'number_of_reviews', 'number_of_reviews_ltm', 'number_of_reviews_l30d',\n",
    "           'review_scores_rating', 'review_scores_accuracy', 'review_scores_cleanliness', 'review_scores_checkin',\n",
    "           'review_scores_communication', 'review_scores_location', 'review_scores_value', 'reviews_per_month',\n",
    "           'num_bathrooms', 'Shared_bath', 'Half_bath', 'rental unit', 'serviced apartment', 'condo', 'hotel', 'home',\n",
    "           'boutique hotel', 'townhouse', 'aparthotel', 'hostel', 'bungalow', 'bed and breakfast', 'guesthouse',\n",
    "           'villa', 'other']\n",
    "\n",
    "# Select the columns from x1_dummy\n",
    "x2_col2 = x1_model_1500_dummy.columns\n",
    "\n",
    "# Concatenate x1_model and x1_dummy\n",
    "x1_final_1500 = pd.concat([x1_model_1500[x1_col1], x1_model_1500_dummy[x2_col2]], axis=1)\n"
   ]
  },
  {
   "cell_type": "code",
   "execution_count": null,
   "metadata": {},
   "outputs": [],
   "source": [
    "y_final_1500 = df['price'][x1_model['number_of_reviews'] != 0]"
   ]
  },
  {
   "cell_type": "code",
   "execution_count": null,
   "metadata": {},
   "outputs": [],
   "source": [
    "y_final_1500 = bnb_listing['price'][x1_model['number_of_reviews'] != 0]\n",
    "y_final_1500.head()"
   ]
  },
  {
   "cell_type": "code",
   "execution_count": null,
   "metadata": {},
   "outputs": [],
   "source": [
    "print(\"Shape of x1_final_1500:\", x1_final_1500.shape)\n",
    "print(\"Shape of y_final_1500:\", y_final_1500.shape)"
   ]
  },
  {
   "cell_type": "code",
   "execution_count": null,
   "metadata": {},
   "outputs": [],
   "source": [
    "#Splitting data into train and test\n",
    "X_train, X_test, y_train, y_test = train_test_split(x1_final_1500, y_final_1500, test_size=0.2, random_state=21)"
   ]
  },
  {
   "cell_type": "code",
   "execution_count": null,
   "metadata": {},
   "outputs": [],
   "source": [
    "models = {\n",
    "    'Decision Tree Regression': DecisionTreeRegressor(),\n",
    "    'Random Forest Regression': RandomForestRegressor(),\n",
    "    'Gradient Boosting Regression': GradientBoostingRegressor(),\n",
    "    'AdaBoost Regression': AdaBoostRegressor(),\n",
    "    'xgboost': xgb.XGBRegressor()\n",
    "}"
   ]
  },
  {
   "cell_type": "code",
   "execution_count": null,
   "metadata": {},
   "outputs": [],
   "source": [
    "# Assuming 'column_name' is the name of the column you want to convert\n",
    "y_final_1500['price'] = y_final_1500['price'].str.replace(',', '').astype(float)"
   ]
  },
  {
   "cell_type": "code",
   "execution_count": null,
   "metadata": {},
   "outputs": [],
   "source": [
    "from sklearn.metrics import mean_squared_error\n",
    "\n",
    "model_mae = {}\n",
    "\n",
    "for label, regressor in models.items():\n",
    "    regressor.fit(X_train, y_train)\n",
    "    predictions = regressor.predict(X_train)\n",
    "    mae = mean_absolute_error(y_train, predictions)\n",
    "    model_mae[label] = mae\n",
    "\n",
    "# Print model MSE\n",
    "for model, mae in model_mae.items():\n",
    "    print(f\"{model}: MAE={mae}\")\n"
   ]
  },
  {
   "cell_type": "markdown",
   "metadata": {},
   "source": [
    "Decision tree is coming out be the best model atleast for the training data set. Let's try to test the model on the test data set  "
   ]
  },
  {
   "cell_type": "code",
   "execution_count": null,
   "metadata": {},
   "outputs": [],
   "source": [
    "from sklearn.metrics import mean_absolute_error\n",
    "\n",
    "model_mae = {}\n",
    "\n",
    "for label, regressor in regression_models.items():\n",
    "    regressor.fit(X_train, y_train)\n",
    "    predictions = regressor.predict(X_test) \n",
    "    mae = mean_absolute_error(y_test, predictions)\n",
    "    model_mae[label] = mae\n",
    "\n",
    "# Print model MAE\n",
    "for model, mae in model_mae.items():\n",
    "    print(f\"{model}: MAE={mae}\")\n"
   ]
  },
  {
   "cell_type": "markdown",
   "metadata": {},
   "source": [
    "Let's run decision tree independently and try to understand which factor are important"
   ]
  },
  {
   "cell_type": "code",
   "execution_count": null,
   "metadata": {},
   "outputs": [],
   "source": [
    "DT_model = DecisionTreeRegressor()\n",
    "DT_model.fit(X_train,y_train)\n",
    "pred = DT_model.predict(X_test)\n",
    "\n",
    "# Checking accuracy \n",
    "\n",
    "mse = mean_squared_error(y_test, pred)\n",
    "rmse = np.sqrt(mse)\n",
    "r_squared = r2_score(y_test, pred)\n",
    "mae = mean_absolute_error(y_test, pred)\n",
    "\n",
    "print(\"Mean Squared Error (MSE):\", mse)\n",
    "print(\"Root Mean Squared Error (RMSE):\", rmse)\n",
    "print(\"R-squared:\", r_squared)\n",
    "print(\"Mean Absolute Error (MAE):\", mae)\n"
   ]
  },
  {
   "cell_type": "code",
   "execution_count": null,
   "metadata": {},
   "outputs": [],
   "source": [
    "import pandas as pd\n",
    "\n",
    "# Create a DataFrame to store y_test and predictions\n",
    "results_df = pd.DataFrame({\n",
    "    'y_test': y_test.values.flatten(),  # Convert y_test to a 1D array\n",
    "    'predictions': predictions\n",
    "})\n",
    "\n",
    "# Write the DataFrame to a CSV file\n",
    "results_df.to_csv('predictions.csv', index=False)\n"
   ]
  },
  {
   "cell_type": "code",
   "execution_count": null,
   "metadata": {},
   "outputs": [],
   "source": [
    "# Get feature importances for Decision Tree model\n",
    "importances = DT_model.feature_importances_\n",
    "\n",
    "# Create a DataFrame to store feature importances\n",
    "feature_importance_df = pd.DataFrame({\n",
    "    'Feature': X_train.columns,\n",
    "    'Importance': importances\n",
    "})\n",
    "\n",
    "# Sort the DataFrame by importance\n",
    "feature_importance_df = feature_importance_df.sort_values(by='Importance', ascending=False)\n"
   ]
  },
  {
   "cell_type": "code",
   "execution_count": null,
   "metadata": {},
   "outputs": [],
   "source": [
    "feature_importance_df.head(10)"
   ]
  },
  {
   "cell_type": "markdown",
   "metadata": {},
   "source": [
    "Explore sample size to understand if we have enough samples to traine the model"
   ]
  },
  {
   "cell_type": "code",
   "execution_count": null,
   "metadata": {},
   "outputs": [],
   "source": [
    "x1_model_1500.head()"
   ]
  }
 ],
 "metadata": {
  "kernelspec": {
   "display_name": "Python 3",
   "language": "python",
   "name": "python3"
  },
  "language_info": {
   "codemirror_mode": {
    "name": "ipython",
    "version": 3
   },
   "file_extension": ".py",
   "mimetype": "text/x-python",
   "name": "python",
   "nbconvert_exporter": "python",
   "pygments_lexer": "ipython3",
   "version": "3.12.1"
  }
 },
 "nbformat": 4,
 "nbformat_minor": 2
}
