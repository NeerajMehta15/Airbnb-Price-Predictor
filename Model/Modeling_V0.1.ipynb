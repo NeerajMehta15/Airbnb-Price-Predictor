{
 "cells": [
  {
   "cell_type": "code",
   "execution_count": 2,
   "metadata": {},
   "outputs": [
    {
     "ename": "ModuleNotFoundError",
     "evalue": "No module named 'pandas'",
     "output_type": "error",
     "traceback": [
      "\u001b[0;31m---------------------------------------------------------------------------\u001b[0m",
      "\u001b[0;31mModuleNotFoundError\u001b[0m                       Traceback (most recent call last)",
      "Cell \u001b[0;32mIn[2], line 1\u001b[0m\n\u001b[0;32m----> 1\u001b[0m \u001b[38;5;28;01mimport\u001b[39;00m \u001b[38;5;21;01mpandas\u001b[39;00m \u001b[38;5;28;01mas\u001b[39;00m \u001b[38;5;21;01mpd\u001b[39;00m\n\u001b[1;32m      2\u001b[0m \u001b[38;5;28;01mimport\u001b[39;00m \u001b[38;5;21;01mnumpy\u001b[39;00m \u001b[38;5;28;01mas\u001b[39;00m \u001b[38;5;21;01mnp\u001b[39;00m\n\u001b[1;32m      4\u001b[0m \u001b[38;5;28;01mimport\u001b[39;00m \u001b[38;5;21;01mmatplotlib\u001b[39;00m\u001b[38;5;21;01m.\u001b[39;00m\u001b[38;5;21;01mpyplot\u001b[39;00m \u001b[38;5;28;01mas\u001b[39;00m \u001b[38;5;21;01mplt\u001b[39;00m\n",
      "\u001b[0;31mModuleNotFoundError\u001b[0m: No module named 'pandas'"
     ]
    }
   ],
   "source": [
    "import pandas as pd\n",
    "import numpy as np\n",
    "\n",
    "import matplotlib.pyplot as plt\n",
    "import seaborn as sns\n",
    "\n",
    "from sklearn.linear_model import LinearRegression, Ridge, Lasso, ElasticNet\n",
    "from sklearn.svm import SVR\n",
    "from sklearn.tree import DecisionTreeRegressor\n",
    "from sklearn.ensemble import RandomForestRegressor, GradientBoostingRegressor, AdaBoostRegressor\n",
    "import xgboost as xgb\n",
    "\n",
    "\n",
    "from sklearn.model_selection import train_test_split\n",
    "from sklearn.metrics import mean_squared_error, mean_absolute_error, r2_score"
   ]
  },
  {
   "cell_type": "code",
   "execution_count": 59,
   "metadata": {},
   "outputs": [],
   "source": [
    "#Importing dataset \n",
    "df = pd.read_csv(\"/Users/neeraj/Documents/Python/Airbnb/1.Listing_details_1.csv\")\n",
    "df = df[df['price'].notna()]"
   ]
  },
  {
   "cell_type": "code",
   "execution_count": 60,
   "metadata": {},
   "outputs": [
    {
     "name": "stdout",
     "output_type": "stream",
     "text": [
      "<class 'pandas.core.frame.DataFrame'>\n",
      "Index: 3329 entries, 0 to 3456\n",
      "Data columns (total 75 columns):\n",
      " #   Column                                        Non-Null Count  Dtype  \n",
      "---  ------                                        --------------  -----  \n",
      " 0   id                                            3329 non-null   float64\n",
      " 1   listing_url                                   3329 non-null   object \n",
      " 2   scrape_id                                     3329 non-null   int64  \n",
      " 3   last_scraped                                  3329 non-null   object \n",
      " 4   source                                        3329 non-null   object \n",
      " 5   name                                          3329 non-null   object \n",
      " 6   description                                   0 non-null      float64\n",
      " 7   neighborhood_overview                         2164 non-null   object \n",
      " 8   picture_url                                   3329 non-null   object \n",
      " 9   host_id                                       3329 non-null   int64  \n",
      " 10  host_url                                      3329 non-null   object \n",
      " 11  host_name                                     3329 non-null   object \n",
      " 12  host_since                                    3329 non-null   object \n",
      " 13  host_location                                 2051 non-null   object \n",
      " 14  host_about                                    2177 non-null   object \n",
      " 15  host_response_time                            2560 non-null   object \n",
      " 16  host_response_rate                            2560 non-null   object \n",
      " 17  host_acceptance_rate                          2450 non-null   object \n",
      " 18  host_is_superhost                             3326 non-null   object \n",
      " 19  host_thumbnail_url                            3329 non-null   object \n",
      " 20  host_picture_url                              3329 non-null   object \n",
      " 21  host_neighbourhood                            3123 non-null   object \n",
      " 22  host_listings_count                           3329 non-null   int64  \n",
      " 23  host_total_listings_count                     3329 non-null   int64  \n",
      " 24  host_verifications                            3329 non-null   object \n",
      " 25  host_has_profile_pic                          3329 non-null   object \n",
      " 26  host_identity_verified                        3329 non-null   object \n",
      " 27  neighbourhood                                 2164 non-null   object \n",
      " 28  neighbourhood_cleansed                        3329 non-null   object \n",
      " 29  neighbourhood_group_cleansed                  3329 non-null   object \n",
      " 30  latitude                                      3329 non-null   float64\n",
      " 31  longitude                                     3329 non-null   float64\n",
      " 32  property_type                                 3329 non-null   object \n",
      " 33  room_type                                     3329 non-null   object \n",
      " 34  accommodates                                  3329 non-null   int64  \n",
      " 35  bathrooms                                     0 non-null      float64\n",
      " 36  bathrooms_text                                3310 non-null   object \n",
      " 37  bedrooms                                      0 non-null      float64\n",
      " 38  beds                                          3255 non-null   float64\n",
      " 39  amenities                                     3329 non-null   object \n",
      " 40  price                                         3329 non-null   object \n",
      " 41  minimum_nights                                3329 non-null   int64  \n",
      " 42  maximum_nights                                3329 non-null   int64  \n",
      " 43  minimum_minimum_nights                        3329 non-null   int64  \n",
      " 44  maximum_minimum_nights                        3329 non-null   int64  \n",
      " 45  minimum_maximum_nights                        3329 non-null   int64  \n",
      " 46  maximum_maximum_nights                        3329 non-null   int64  \n",
      " 47  minimum_nights_avg_ntm                        3329 non-null   float64\n",
      " 48  maximum_nights_avg_ntm                        3329 non-null   float64\n",
      " 49  calendar_updated                              0 non-null      float64\n",
      " 50  has_availability                              3329 non-null   object \n",
      " 51  availability_30                               3329 non-null   int64  \n",
      " 52  availability_60                               3329 non-null   int64  \n",
      " 53  availability_90                               3329 non-null   int64  \n",
      " 54  availability_365                              3329 non-null   int64  \n",
      " 55  calendar_last_scraped                         3329 non-null   object \n",
      " 56  number_of_reviews                             3329 non-null   int64  \n",
      " 57  number_of_reviews_ltm                         3329 non-null   int64  \n",
      " 58  number_of_reviews_l30d                        3329 non-null   int64  \n",
      " 59  first_review                                  1781 non-null   object \n",
      " 60  last_review                                   1781 non-null   object \n",
      " 61  review_scores_rating                          1781 non-null   float64\n",
      " 62  review_scores_accuracy                        1779 non-null   float64\n",
      " 63  review_scores_cleanliness                     1779 non-null   float64\n",
      " 64  review_scores_checkin                         1779 non-null   float64\n",
      " 65  review_scores_communication                   1780 non-null   float64\n",
      " 66  review_scores_location                        1779 non-null   float64\n",
      " 67  review_scores_value                           1779 non-null   float64\n",
      " 68  license                                       1362 non-null   object \n",
      " 69  instant_bookable                              3329 non-null   object \n",
      " 70  calculated_host_listings_count                3329 non-null   int64  \n",
      " 71  calculated_host_listings_count_entire_homes   3329 non-null   int64  \n",
      " 72  calculated_host_listings_count_private_rooms  3329 non-null   int64  \n",
      " 73  calculated_host_listings_count_shared_rooms   3329 non-null   int64  \n",
      " 74  reviews_per_month                             1781 non-null   float64\n",
      "dtypes: float64(18), int64(22), object(35)\n",
      "memory usage: 1.9+ MB\n"
     ]
    }
   ],
   "source": [
    "df.info()"
   ]
  },
  {
   "cell_type": "markdown",
   "metadata": {},
   "source": [
    "Remove the irrelevant columns that is used for the scrapping, and only keep the relevant in the data set"
   ]
  },
  {
   "cell_type": "code",
   "execution_count": 61,
   "metadata": {},
   "outputs": [],
   "source": [
    "bnb_listing = df.drop([\"listing_url\",\"scrape_id\",\"last_scraped\",\"last_scraped\",\"source\",\"description\",\"picture_url\",\"host_url\",\"host_thumbnail_url\",\"host_picture_url\",\"longitude\",\"latitude\",\"amenities\",\"calendar_last_scraped\",\"bathrooms\",\"bedrooms\",\"calendar_updated\",'license','host_about'], axis=1)"
   ]
  },
  {
   "cell_type": "markdown",
   "metadata": {},
   "source": [
    "Dividing data columns such that they cover the various different aspect of the Airbnb, like one group can be host related and how does this impact the price, other can be related to future occupancy."
   ]
  },
  {
   "cell_type": "code",
   "execution_count": 62,
   "metadata": {},
   "outputs": [],
   "source": [
    "property_unique = ['id','name','neighbourhood_overview']\n",
    "neighbourhood = ['neighbourhood','neighbourhood_cleansed','neighbourhood_group_cleansed']\n",
    "host = [\"host_id\",\"host_name\",\"host_since\",\"host_location\",\"host_about\",\"host_response_time\",\"host_response_rate\",\"host_acceptance_rate\",\"host_is_superhost\",\"host_neighbourhood\",\"host_listings_count\",\"host_total_listings_count\",\"host_verifications\",\"host_has_profile_pic\",\"host_identity_verified\"]\n",
    "property_details = [\"property_type\",\"room_type\",\"accommodates\",\"bathrooms_text\",\"beds\"]\n",
    "price = [\"price\"]\n",
    "future_bookings = ['minimum_nights','maximum_nights','minimum_minimum_nights','maximum_minimum_nights','minimum_maximum_nights','maximum_maximum_nights','minimum_nights_avg_ntm','maximum_nights_avg_ntm','has_availability','availability_30','availability_60','availability_90','availability_365']\n",
    "reviews = [\"number_of_reviews\",\"number_of_reviews_ltm\",\"number_of_reviews_l30d\",\"first_review\",\"last_review\",\"review_scores_rating\",\"review_scores_accuracy\",\"review_scores_cleanliness\",\"review_scores_checkin\",\"review_scores_communication\",\"review_scores_location\",\"review_scores_value\",\"reviews_per_month\"]\n",
    "others = [\"instant_bookable\",\"calculated_host_listings_count\",\"calculated_host_listings_count_entire_homes\",\"calculated_host_listings_count_private_rooms\",\"calculated_host_listings_count_shared_rooms\"]"
   ]
  },
  {
   "cell_type": "markdown",
   "metadata": {},
   "source": [
    "Basic checks to understand more about if all the listed property are unique or not, and we are not getting any duplicate data"
   ]
  },
  {
   "cell_type": "code",
   "execution_count": 45,
   "metadata": {},
   "outputs": [
    {
     "data": {
      "image/png": "[encoded data removed]",
      "text/plain": [
       "<Figure size 500x500 with 1 Axes>"
      ]
     },
     "metadata": {},
     "output_type": "display_data"
    }
   ],
   "source": [
    "\n",
    "total_listing = bnb_listing.groupby('host_id')['id'].count()\n",
    "\n",
    "sns.relplot(x=total_listing.index, y=total_listing.values, kind = 'scatter')\n",
    "plt.xlabel('Host ID')\n",
    "plt.ylabel('Count of Listings')\n",
    "plt.title('Number of Listings per Host')\n",
    "plt.xticks(rotation=90)  # Rotate x-axis labels for better visibility\n",
    "plt.show()\n"
   ]
  },
  {
   "cell_type": "code",
   "execution_count": 88,
   "metadata": {},
   "outputs": [],
   "source": [
    "# Convert 'price' column to numeric after removing non-numeric characters\n",
    "bnb_listing['price'] = pd.to_numeric(bnb_listing['price'].str.replace('[^0-9.]', '', regex=True))"
   ]
  },
  {
   "cell_type": "code",
   "execution_count": 95,
   "metadata": {},
   "outputs": [
    {
     "name": "stdout",
     "output_type": "stream",
     "text": [
      "int64\n"
     ]
    }
   ],
   "source": [
    "print(bnb_listing['price'].dtype)"
   ]
  },
  {
   "cell_type": "markdown",
   "metadata": {},
   "source": [
    "We will do both regression and classification to understand how the both model works"
   ]
  },
  {
   "cell_type": "code",
   "execution_count": 47,
   "metadata": {},
   "outputs": [
    {
     "data": {
      "text/plain": [
       "['151-200', '51-100', '201-500', '101-150', '0-50', '501-1000', '1000+']\n",
       "Categories (7, object): ['0-50' < '51-100' < '101-150' < '151-200' < '201-500' < '501-1000' < '1000+']"
      ]
     },
     "execution_count": 47,
     "metadata": {},
     "output_type": "execute_result"
    }
   ],
   "source": [
    "# Define the bin edges for the price categories\n",
    "bin_edges = [0, 50, 100, 150, 200, 500, 1000, float('inf')]  # Define the edges of the price categories\n",
    "\n",
    "# Define the labels for the price categories\n",
    "bin_labels = ['0-50', '51-100', '101-150', '151-200', '201-500','501-1000','1000+']  # Define the labels for the price categories\n",
    "\n",
    "# Create the 'price_category' column using pd.cut()\n",
    "bnb_listing['price_category'] = pd.cut(bnb_listing['price'], bins=bin_edges, labels=bin_labels, right=False)\n",
    "\n",
    "bnb_listing['price_category'].unique()"
   ]
  },
  {
   "cell_type": "markdown",
   "metadata": {},
   "source": [
    "Focusing on property details, doing EDA and building model first only on the property vs. price"
   ]
  },
  {
   "cell_type": "code",
   "execution_count": 48,
   "metadata": {},
   "outputs": [
    {
     "name": "stdout",
     "output_type": "stream",
     "text": [
      "property_type\n",
      "Private room in rental unit           684\n",
      "Entire rental unit                    593\n",
      "Entire serviced apartment             582\n",
      "Room in hotel                         205\n",
      "Entire condo                          199\n",
      "Private room in condo                 195\n",
      "Private room in home                  167\n",
      "Room in boutique hotel                119\n",
      "Private room in serviced apartment     67\n",
      "Private room in townhouse              50\n",
      "Room in aparthotel                     50\n",
      "Room in hostel                         44\n",
      "Shared room in hostel                  42\n",
      "Entire home                            41\n",
      "Private room in bungalow               31\n",
      "Shared room in rental unit             26\n",
      "Private room in bed and breakfast      22\n",
      "Private room in hostel                 22\n",
      "Private room in guesthouse             19\n",
      "Private room                           17\n",
      "Shared room in bed and breakfast       16\n",
      "Private room in villa                  16\n",
      "Shared room in guesthouse              15\n",
      "Room in serviced apartment             15\n",
      "Entire loft                            12\n",
      "Shared room in boutique hotel          10\n",
      "Shared room                             9\n",
      "Entire guest suite                      7\n",
      "Shared room in home                     6\n",
      "Entire townhouse                        6\n",
      "Private room in loft                    5\n",
      "Shared room in cabin                    4\n",
      "Boat                                    4\n",
      "Room in bed and breakfast               4\n",
      "Shared room in bungalow                 3\n",
      "Shared room in condo                    3\n",
      "Private room in casa particular         2\n",
      "Entire place                            2\n",
      "Shared room in hotel                    2\n",
      "Tiny home                               2\n",
      "Campsite                                1\n",
      "Private room in earthen home            1\n",
      "Private room in barn                    1\n",
      "Private room in resort                  1\n",
      "Entire villa                            1\n",
      "Private room in tent                    1\n",
      "Entire vacation home                    1\n",
      "Entire guesthouse                       1\n",
      "Casa particular                         1\n",
      "Shared room in riad                     1\n",
      "Tower                                   1\n",
      "Name: property_type, dtype: int64\n"
     ]
    }
   ],
   "source": [
    "bnb_listing['property_type'].unique()\n",
    "\n",
    "total_property = bnb_listing.groupby('property_type')['property_type'].count()\n",
    "print(total_property.sort_values(ascending=False))\n"
   ]
  },
  {
   "cell_type": "code",
   "execution_count": 66,
   "metadata": {},
   "outputs": [],
   "source": [
    "# List of property types to check for\n",
    "property_types = ['rental unit', 'serviced apartment', 'condo', 'hotel', 'home', 'boutique hotel',\n",
    "                  'townhouse', 'aparthotel', 'hostel', 'bungalow', 'bed and breakfast', 'guesthouse', 'villa']\n",
    "\n",
    "# Iterate over the rows in the 'property_type' column\n",
    "for lab, row in bnb_listing['property_type'].items():\n",
    "    # Check if the property type exists in the row\n",
    "    for prop_type in property_types:\n",
    "        if prop_type.lower() in row.lower():\n",
    "            bnb_listing.loc[lab, prop_type] = 1\n",
    "        else:\n",
    "            bnb_listing.loc[lab,prop_type] = 0"
   ]
  },
  {
   "cell_type": "code",
   "execution_count": 67,
   "metadata": {},
   "outputs": [],
   "source": [
    "# If property type not found, mark \"other\" column as 1\n",
    "#bnb_listing['sum_of_columns'] = bnb_listing[property_types].sum(axis=1)\n",
    "#bnb_listing['other'] = 1 - bnb_listing['sum_of_columns']\n",
    "#bnb_listing.loc[bnb_listing['sum_of_columns'] == 1, 'other'] = 0"
   ]
  },
  {
   "cell_type": "code",
   "execution_count": 109,
   "metadata": {},
   "outputs": [],
   "source": [
    "# If property type not found, mark \"other\" column as 1\n",
    "bnb_listing['sum_of_columns'] = bnb_listing[property_types].sum(axis=1)\n",
    "bnb_listing.loc[bnb_listing['sum_of_columns'] == 0, 'other'] = 1\n",
    "bnb_listing.loc[bnb_listing['sum_of_columns'] != 0, 'other'] = 0"
   ]
  },
  {
   "cell_type": "code",
   "execution_count": 69,
   "metadata": {},
   "outputs": [
    {
     "name": "stdout",
     "output_type": "stream",
     "text": [
      "Series([], Name: other, dtype: float64)\n"
     ]
    }
   ],
   "source": [
    "print(bnb_listing[bnb_listing['other'] < 0]['other'])"
   ]
  },
  {
   "cell_type": "code",
   "execution_count": 70,
   "metadata": {},
   "outputs": [
    {
     "name": "stdout",
     "output_type": "stream",
     "text": [
      "bathrooms_text\n",
      "0 baths                14\n",
      "0 shared baths         28\n",
      "1 bath               1157\n",
      "1 private bath        590\n",
      "1 shared bath         351\n",
      "1.5 baths             125\n",
      "1.5 shared baths       72\n",
      "10 baths                4\n",
      "10 shared baths         2\n",
      "13 baths                2\n",
      "13 shared baths         1\n",
      "16 baths                2\n",
      "16 shared baths         2\n",
      "2 baths               447\n",
      "2 shared baths        124\n",
      "2.5 baths              18\n",
      "2.5 shared baths       12\n",
      "21 shared baths         2\n",
      "3 baths                61\n",
      "3 shared baths        148\n",
      "3.5 baths               2\n",
      "3.5 shared baths        2\n",
      "4 baths                16\n",
      "4 shared baths         34\n",
      "4.5 baths               3\n",
      "4.5 shared baths        1\n",
      "5 baths                 3\n",
      "5 shared baths         18\n",
      "5.5 baths               1\n",
      "6 baths                 7\n",
      "6 shared baths          5\n",
      "7 shared baths          3\n",
      "8 baths                10\n",
      "8 shared baths          3\n",
      "8.5 baths               1\n",
      "8.5 shared baths        4\n",
      "Half-bath               6\n",
      "Private half-bath       7\n",
      "Shared half-bath       22\n",
      "Name: bathrooms_text, dtype: int64\n"
     ]
    }
   ],
   "source": [
    "bnb_listing['bathrooms_text'].unique()\n",
    "baths = bnb_listing.groupby('bathrooms_text')['bathrooms_text'].agg('count')\n",
    "print(baths)"
   ]
  },
  {
   "cell_type": "markdown",
   "metadata": {},
   "source": [
    "From this we can do feature engineering, and identify the shared bath and number of bath, that we can impute the missing value or nan values.\n",
    "- Half bath or full bath can be one columns\n",
    "- Number of baths can  be another\n",
    "- Private or shared can be another\n",
    "\n",
    "Our assumbtion is where only bath is written , those are private full baths."
   ]
  },
  {
   "cell_type": "code",
   "execution_count": 71,
   "metadata": {},
   "outputs": [],
   "source": [
    "import re\n",
    "\n",
    "# Convert column to string type\n",
    "bnb_listing['bathrooms_text'] = bnb_listing['bathrooms_text'].astype(str)\n",
    "\n",
    "# Iterate over the Series\n",
    "for lab, row in bnb_listing['bathrooms_text'].items():\n",
    "    # Use regular expression to extract number of bathrooms from string\n",
    "    match = re.search(r'(\\d+(\\.\\d+)?)', row)\n",
    "    if match:\n",
    "        bnb_listing.loc[lab, 'num_bathrooms'] = float(match.group(1))\n",
    "    else:\n",
    "        bnb_listing.loc[lab, 'num_bathrooms'] = 1\n",
    "\n",
    "    if 'shared' in row:\n",
    "        bnb_listing.loc[lab, 'Shared_bath'] = 0\n",
    "    else:\n",
    "        bnb_listing.loc[lab, 'Shared_bath'] = 1\n",
    "\n",
    "    if 'half' in row.lower():\n",
    "        bnb_listing.loc[lab, 'Half_bath'] = 0\n",
    "    elif 'Half' in row.lower():\n",
    "        bnb_listing.loc[lab, 'Half_bath'] = 0\n",
    "    else:\n",
    "        bnb_listing.loc[lab, 'Half_bath'] = 1\n"
   ]
  },
  {
   "cell_type": "code",
   "execution_count": 72,
   "metadata": {},
   "outputs": [
    {
     "data": {
      "image/png": "[encoded data removed]",
      "text/plain": [
       "<Figure size 640x480 with 1 Axes>"
      ]
     },
     "metadata": {},
     "output_type": "display_data"
    }
   ],
   "source": [
    "bath_details = bnb_listing.groupby('num_bathrooms')['num_bathrooms'].agg(numbers_bath='count').reset_index()\n",
    "\n",
    "sns.barplot(x='num_bathrooms', y='numbers_bath', data=bath_details)\n",
    "plt.xlabel('Number of Bathrooms')\n",
    "plt.ylabel('Count')\n",
    "plt.title('Distribution of Properties by Number of Bathrooms')\n",
    "plt.show()\n"
   ]
  },
  {
   "cell_type": "code",
   "execution_count": 73,
   "metadata": {},
   "outputs": [],
   "source": [
    "bnb_listing['room_type'].unique()\n",
    "\n",
    "# Initialize the columns to 0\n",
    "bnb_listing['Private room'] = 0\n",
    "bnb_listing['Entire home/apt'] = 0\n",
    "bnb_listing['Shared room'] = 0\n",
    "\n",
    "# Iterate over the rows in the 'room_type' column and set the appropriate flags\n",
    "for lab, row in bnb_listing.iterrows():\n",
    "    if row['room_type'] in ['Private room', 'Hotel room']:\n",
    "        bnb_listing.loc[lab, 'Private room'] = 1\n",
    "    elif row['room_type'] == 'Entire home/apt':\n",
    "        bnb_listing.loc[lab, 'Entire home/apt'] = 1\n",
    "    else:\n",
    "        bnb_listing.loc[lab, 'Shared room'] = 1"
   ]
  },
  {
   "cell_type": "code",
   "execution_count": 74,
   "metadata": {},
   "outputs": [],
   "source": [
    "# Replacing null beds with mode values\n",
    "for lab, row in bnb_listing.iterrows():\n",
    "    if pd.isnull(row['beds']):\n",
    "        bnb_listing.at[lab, 'beds'] = bnb_listing['beds'].mode()[0]\n"
   ]
  },
  {
   "cell_type": "code",
   "execution_count": 75,
   "metadata": {},
   "outputs": [
    {
     "name": "stdout",
     "output_type": "stream",
     "text": [
      "<class 'pandas.core.frame.DataFrame'>\n",
      "Index: 3329 entries, 0 to 3456\n",
      "Data columns (total 78 columns):\n",
      " #   Column                                        Non-Null Count  Dtype  \n",
      "---  ------                                        --------------  -----  \n",
      " 0   id                                            3329 non-null   float64\n",
      " 1   name                                          3329 non-null   object \n",
      " 2   neighborhood_overview                         2164 non-null   object \n",
      " 3   host_id                                       3329 non-null   int64  \n",
      " 4   host_name                                     3329 non-null   object \n",
      " 5   host_since                                    3329 non-null   object \n",
      " 6   host_location                                 2051 non-null   object \n",
      " 7   host_response_time                            2560 non-null   object \n",
      " 8   host_response_rate                            2560 non-null   object \n",
      " 9   host_acceptance_rate                          2450 non-null   object \n",
      " 10  host_is_superhost                             3326 non-null   object \n",
      " 11  host_neighbourhood                            3123 non-null   object \n",
      " 12  host_listings_count                           3329 non-null   int64  \n",
      " 13  host_total_listings_count                     3329 non-null   int64  \n",
      " 14  host_verifications                            3329 non-null   object \n",
      " 15  host_has_profile_pic                          3329 non-null   object \n",
      " 16  host_identity_verified                        3329 non-null   object \n",
      " 17  neighbourhood                                 2164 non-null   object \n",
      " 18  neighbourhood_cleansed                        3329 non-null   object \n",
      " 19  neighbourhood_group_cleansed                  3329 non-null   object \n",
      " 20  property_type                                 3329 non-null   object \n",
      " 21  room_type                                     3329 non-null   object \n",
      " 22  accommodates                                  3329 non-null   int64  \n",
      " 23  bathrooms_text                                3329 non-null   object \n",
      " 24  beds                                          3329 non-null   float64\n",
      " 25  price                                         3329 non-null   object \n",
      " 26  minimum_nights                                3329 non-null   int64  \n",
      " 27  maximum_nights                                3329 non-null   int64  \n",
      " 28  minimum_minimum_nights                        3329 non-null   int64  \n",
      " 29  maximum_minimum_nights                        3329 non-null   int64  \n",
      " 30  minimum_maximum_nights                        3329 non-null   int64  \n",
      " 31  maximum_maximum_nights                        3329 non-null   int64  \n",
      " 32  minimum_nights_avg_ntm                        3329 non-null   float64\n",
      " 33  maximum_nights_avg_ntm                        3329 non-null   float64\n",
      " 34  has_availability                              3329 non-null   object \n",
      " 35  availability_30                               3329 non-null   int64  \n",
      " 36  availability_60                               3329 non-null   int64  \n",
      " 37  availability_90                               3329 non-null   int64  \n",
      " 38  availability_365                              3329 non-null   int64  \n",
      " 39  number_of_reviews                             3329 non-null   int64  \n",
      " 40  number_of_reviews_ltm                         3329 non-null   int64  \n",
      " 41  number_of_reviews_l30d                        3329 non-null   int64  \n",
      " 42  first_review                                  1781 non-null   object \n",
      " 43  last_review                                   1781 non-null   object \n",
      " 44  review_scores_rating                          1781 non-null   float64\n",
      " 45  review_scores_accuracy                        1779 non-null   float64\n",
      " 46  review_scores_cleanliness                     1779 non-null   float64\n",
      " 47  review_scores_checkin                         1779 non-null   float64\n",
      " 48  review_scores_communication                   1780 non-null   float64\n",
      " 49  review_scores_location                        1779 non-null   float64\n",
      " 50  review_scores_value                           1779 non-null   float64\n",
      " 51  instant_bookable                              3329 non-null   object \n",
      " 52  calculated_host_listings_count                3329 non-null   int64  \n",
      " 53  calculated_host_listings_count_entire_homes   3329 non-null   int64  \n",
      " 54  calculated_host_listings_count_private_rooms  3329 non-null   int64  \n",
      " 55  calculated_host_listings_count_shared_rooms   3329 non-null   int64  \n",
      " 56  reviews_per_month                             1781 non-null   float64\n",
      " 57  rental unit                                   3329 non-null   float64\n",
      " 58  serviced apartment                            3329 non-null   float64\n",
      " 59  condo                                         3329 non-null   float64\n",
      " 60  hotel                                         3329 non-null   float64\n",
      " 61  home                                          3329 non-null   float64\n",
      " 62  boutique hotel                                3329 non-null   float64\n",
      " 63  townhouse                                     3329 non-null   float64\n",
      " 64  aparthotel                                    3329 non-null   float64\n",
      " 65  hostel                                        3329 non-null   float64\n",
      " 66  bungalow                                      3329 non-null   float64\n",
      " 67  bed and breakfast                             3329 non-null   float64\n",
      " 68  guesthouse                                    3329 non-null   float64\n",
      " 69  villa                                         3329 non-null   float64\n",
      " 70  sum_of_columns                                3329 non-null   float64\n",
      " 71  other                                         69 non-null     float64\n",
      " 72  num_bathrooms                                 3329 non-null   float64\n",
      " 73  Shared_bath                                   3329 non-null   float64\n",
      " 74  Half_bath                                     3329 non-null   float64\n",
      " 75  Private room                                  3329 non-null   int64  \n",
      " 76  Entire home/apt                               3329 non-null   int64  \n",
      " 77  Shared room                                   3329 non-null   int64  \n",
      "dtypes: float64(30), int64(24), object(24)\n",
      "memory usage: 2.1+ MB\n"
     ]
    }
   ],
   "source": [
    "bnb_listing.info()"
   ]
  },
  {
   "cell_type": "code",
   "execution_count": 110,
   "metadata": {},
   "outputs": [],
   "source": [
    "X = ['rental unit','serviced apartment','condo','hotel','home','boutique hotel','townhouse','aparthotel','hostel','bungalow','bed and breakfast','guesthouse','villa','other','num_bathrooms','Shared_bath','Half_bath','Private room','Entire home/apt','Shared room','beds','accommodates']\n",
    "Y = ['price']"
   ]
  },
  {
   "cell_type": "code",
   "execution_count": 111,
   "metadata": {},
   "outputs": [],
   "source": [
    "x_final = bnb_listing[X]\n",
    "y_final = bnb_listing[Y]"
   ]
  },
  {
   "cell_type": "code",
   "execution_count": 112,
   "metadata": {},
   "outputs": [
    {
     "data": {
      "text/plain": [
       "rental unit           0\n",
       "serviced apartment    0\n",
       "condo                 0\n",
       "hotel                 0\n",
       "home                  0\n",
       "boutique hotel        0\n",
       "townhouse             0\n",
       "aparthotel            0\n",
       "hostel                0\n",
       "bungalow              0\n",
       "bed and breakfast     0\n",
       "guesthouse            0\n",
       "villa                 0\n",
       "other                 0\n",
       "num_bathrooms         0\n",
       "Shared_bath           0\n",
       "Half_bath             0\n",
       "Private room          0\n",
       "Entire home/apt       0\n",
       "Shared room           0\n",
       "beds                  0\n",
       "accommodates          0\n",
       "dtype: int64"
      ]
     },
     "execution_count": 112,
     "metadata": {},
     "output_type": "execute_result"
    }
   ],
   "source": [
    "bnb_listing[X].isna().sum()"
   ]
  },
  {
   "cell_type": "code",
   "execution_count": 113,
   "metadata": {},
   "outputs": [],
   "source": [
    "#Splitting data into train and test\n",
    "x_train, x_test, y_train, y_test = train_test_split(x_final ,bnb_listing[Y], test_size=0.2, random_state=21)"
   ]
  },
  {
   "cell_type": "code",
   "execution_count": 115,
   "metadata": {},
   "outputs": [],
   "source": [
    "models = {\n",
    "    'Decision Tree Regression': DecisionTreeRegressor(),\n",
    "    'Random Forest Regression': RandomForestRegressor(),\n",
    "    'Gradient Boosting Regression': GradientBoostingRegressor(),\n",
    "    'AdaBoost Regression': AdaBoostRegressor(),\n",
    "    'xgboost': xgb.XGBRegressor()\n",
    "}"
   ]
  },
  {
   "cell_type": "code",
   "execution_count": 122,
   "metadata": {},
   "outputs": [
    {
     "name": "stderr",
     "output_type": "stream",
     "text": [
      "/Users/neeraj/Documents/.conda/lib/python3.12/site-packages/sklearn/base.py:1474: DataConversionWarning: A column-vector y was passed when a 1d array was expected. Please change the shape of y to (n_samples,), for example using ravel().\n",
      "  return fit_method(estimator, *args, **kwargs)\n",
      "/Users/neeraj/Documents/.conda/lib/python3.12/site-packages/sklearn/ensemble/_gb.py:668: DataConversionWarning: A column-vector y was passed when a 1d array was expected. Please change the shape of y to (n_samples, ), for example using ravel().\n",
      "  y = column_or_1d(y, warn=True)  # TODO: Is this still required?\n",
      "/Users/neeraj/Documents/.conda/lib/python3.12/site-packages/sklearn/utils/validation.py:1300: DataConversionWarning: A column-vector y was passed when a 1d array was expected. Please change the shape of y to (n_samples, ), for example using ravel().\n",
      "  y = column_or_1d(y, warn=True)\n"
     ]
    },
    {
     "name": "stdout",
     "output_type": "stream",
     "text": [
      "Training Data________________________________\n",
      "Decision Tree Regression: MAE=120.78590606325895, R²=0.3171802470298455\n",
      "Random Forest Regression: MAE=132.57841236340204, R²=0.2912013066803967\n",
      "Gradient Boosting Regression: MAE=147.42405808895165, R²=0.17211800672373156\n",
      "AdaBoost Regression: MAE=272.27335450012805, R²=-0.10615683075081117\n",
      "xgboost: MAE=125.32612597973687, R²=0.3135977294670279\n",
      "\n",
      "Test Data________________________________\n",
      "Decision Tree Regression: MAE=153.1147928644074, R²=0.06572019489913916\n",
      "Random Forest Regression: MAE=149.72163935702457, R²=0.20107318298871069\n",
      "Gradient Boosting Regression: MAE=151.5572057862772, R²=0.16127056354420788\n",
      "AdaBoost Regression: MAE=267.2745071436025, R²=-0.051942804875134474\n",
      "xgboost: MAE=147.25579185600395, R²=0.16412401314747194\n"
     ]
    }
   ],
   "source": [
    "from sklearn.metrics import mean_absolute_error, r2_score\n",
    "\n",
    "# Assuming `models` is a dictionary of your regression models\n",
    "model_mae_train = {}\n",
    "model_mae_test = {}\n",
    "model_r2_train = {}\n",
    "model_r2_test = {}\n",
    "\n",
    "for label, regressor in models.items():\n",
    "    regressor.fit(x_train, y_train)\n",
    "    predictions_train = regressor.predict(x_train)\n",
    "    predictions_test = regressor.predict(x_test)\n",
    "    \n",
    "    mae_train = mean_absolute_error(y_train, predictions_train)\n",
    "    mae_test = mean_absolute_error(y_test, predictions_test)\n",
    "    r2_train = r2_score(y_train, predictions_train)\n",
    "    r2_test = r2_score(y_test, predictions_test)\n",
    "    \n",
    "    model_mae_train[label] = mae_train\n",
    "    model_mae_test[label] = mae_test\n",
    "    model_r2_train[label] = r2_train\n",
    "    model_r2_test[label] = r2_test\n",
    "\n",
    "# Print MAE and R² for training data\n",
    "print(\"Training Data________________________________\")\n",
    "for model in model_mae_train:\n",
    "    print(f\"{model}: MAE={model_mae_train[model]}, R²={model_r2_train[model]}\")\n",
    "\n",
    "# Print MAE and R² for test data\n",
    "print(\"\\nTest Data________________________________\")\n",
    "for model in model_mae_test:\n",
    "    print(f\"{model}: MAE={model_mae_test[model]}, R²={model_r2_test[model]}\")\n"
   ]
  },
  {
   "cell_type": "markdown",
   "metadata": {},
   "source": [
    "Decision tree regression is giving the best result, we will use it to check out the specific issue"
   ]
  },
  {
   "cell_type": "markdown",
   "metadata": {},
   "source": [
    "We will deep dive into DecisionTree and Randomforest to understand the importance of the each parameter, at the same time we need to understand if have enough sample size "
   ]
  },
  {
   "cell_type": "code",
   "execution_count": 123,
   "metadata": {},
   "outputs": [],
   "source": [
    "model_DT = DecisionTreeRegressor()\n",
    "model_Regression = RandomForestRegressor()"
   ]
  },
  {
   "cell_type": "code",
   "execution_count": 125,
   "metadata": {},
   "outputs": [
    {
     "name": "stdout",
     "output_type": "stream",
     "text": [
      "152.7596073217219\n",
      "120.78590606325895\n"
     ]
    }
   ],
   "source": [
    "model_DT.fit(x_train,y_train)\n",
    "dt_train_predict = model_DT.predict(x_train)\n",
    "dt_test_predict = model_DT.predict(x_test)\n",
    "\n",
    "mae_dt_train = mean_absolute_error(y_train,dt_train_predict)\n",
    "mae_dt_test = mean_absolute_error(y_test,dt_test_predict)\n",
    "\n",
    "\n",
    "print(mae_dt_test)\n",
    "print(mae_dt_train)"
   ]
  },
  {
   "cell_type": "code",
   "execution_count": 127,
   "metadata": {},
   "outputs": [
    {
     "name": "stdout",
     "output_type": "stream",
     "text": [
      "               Feature  Importance\n",
      "20                beds    0.191262\n",
      "18     Entire home/apt    0.149051\n",
      "21        accommodates    0.141170\n",
      "14       num_bathrooms    0.136111\n",
      "0          rental unit    0.102892\n",
      "3                hotel    0.057611\n",
      "19         Shared room    0.044376\n",
      "2                condo    0.038838\n",
      "15         Shared_bath    0.034932\n",
      "4                 home    0.034580\n",
      "1   serviced apartment    0.028490\n",
      "5       boutique hotel    0.018914\n",
      "13               other    0.017278\n",
      "16           Half_bath    0.001194\n",
      "8               hostel    0.000821\n",
      "10   bed and breakfast    0.000789\n",
      "6            townhouse    0.000733\n",
      "9             bungalow    0.000591\n",
      "11          guesthouse    0.000207\n",
      "7           aparthotel    0.000097\n",
      "17        Private room    0.000050\n",
      "12               villa    0.000015\n"
     ]
    },
    {
     "data": {
      "image/png": "[encoded data removed]",
      "text/plain": [
       "<Figure size 1000x600 with 1 Axes>"
      ]
     },
     "metadata": {},
     "output_type": "display_data"
    }
   ],
   "source": [
    "feature_importance = model_DT.feature_importances_\n",
    "\n",
    "# Create a DataFrame to view feature importances\n",
    "features_df = pd.DataFrame({\n",
    "    'Feature': x_train.columns,\n",
    "    'Importance': feature_importance\n",
    "})\n",
    "\n",
    "# Sort features by importance\n",
    "features_df = features_df.sort_values(by='Importance', ascending=False)\n",
    "\n",
    "print(features_df)\n",
    "\n",
    "# Optionally, visualize the feature importances\n",
    "import matplotlib.pyplot as plt\n",
    "\n",
    "plt.figure(figsize=(10, 6))\n",
    "plt.barh(features_df['Feature'], features_df['Importance'])\n",
    "plt.xlabel('Feature Importance')\n",
    "plt.ylabel('Feature')\n",
    "plt.title('Feature Importances in DecisionTreeRegressor')\n",
    "plt.gca().invert_yaxis()  # To display the highest importance at the top\n",
    "plt.show()"
   ]
  },
  {
   "cell_type": "code",
   "execution_count": 3,
   "metadata": {},
   "outputs": [
    {
     "data": {
      "text/plain": [
       "['EDA.ipynb',\n",
       " '.DS_Store',\n",
       " '6.reviews.csv',\n",
       " 'predictions.csv',\n",
       " '3.Listing_details_3.csv',\n",
       " '1.Listing_details_1.csv',\n",
       " '4.reviews 2.csv',\n",
       " 'old.csv',\n",
       " 'Modeling_V0.1.ipynb',\n",
       " 'venv',\n",
       " 'BnB.py',\n",
       " 'Airbnb Data Dictionary.xlsx',\n",
       " '.vscode',\n",
       " '7.neighbourhoods.csv']"
      ]
     },
     "execution_count": 3,
     "metadata": {},
     "output_type": "execute_result"
    }
   ],
   "source": [
    "import os \n",
    "wd = os.getcwd() #Store the name of the current directory\n",
    "os.listdir(wd) #Outputs the contents of the directory in a list to the shell"
   ]
  }
 ],
 "metadata": {
  "kernelspec": {
   "display_name": "Python 3",
   "language": "python",
   "name": "python3"
  },
  "language_info": {
   "codemirror_mode": {
    "name": "ipython",
    "version": 3
   },
   "file_extension": ".py",
   "mimetype": "text/x-python",
   "name": "python",
   "nbconvert_exporter": "python",
   "pygments_lexer": "ipython3",
   "version": "3.11.9"
  }
 },
 "nbformat": 4,
 "nbformat_minor": 2
}
